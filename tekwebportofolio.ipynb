{
 "cells": [
  {
   "cell_type": "code",
   "execution_count": null,
   "metadata": {},
   "outputs": [],
   "source": [
    "/*style.css*/\n",
    ".cover {\n",
    "  position: relative;\n",
    "  background-position: center;\n",
    "  background-size: cover;\n",
    "  height: 400px;\n",
    "}\n",
    ".cover .masking {\n",
    "  position: absolute;\n",
    "  width: 100%;\n",
    "  bottom: 0;\n",
    "  top: 0;\n",
    "  background-color: black;\n",
    "  opacity: 0.5;\n",
    "  z-index: 0;\n",
    "}\n",
    ".cover .credit {\n",
    "  position: absolute;\n",
    "  left: 10px;\n",
    "  bottom: 10px;\n",
    "}\n",
    ".cover .social a {\n",
    "  color: white;\n",
    "}\n",
    "<!--Header-->\n",
    "    <div class=\"cover\" style=\"background-image: url(./images/thom-milkovic-qGQIOLke2kE-unsplash.jpg);\">\n",
    "      <div class=\"masking\"></div>\n",
    "      <small class=\"credit\"><a href=\"\">Background photo by Thom Milkovic</a></small>\n",
    "      <div class=\"container h-100\">\n",
    "        <div class=\"row h-100 align-items-center\">\n",
    "          <div class=\"col-6 text-white\">\n",
    "            <h1>Farid Surya</h1>\n",
    "            <p>Sebuah perjalanan ilmu menjelajah kode. Disini saya berbagi tentang perjalanan saya menjelajah berbagai bahasa kode komputer. </p>\n",
    "            <div class=\"social\">\n",
    "              <a href=\"\"><i class=\"bi-instagram\"></i> ciciliaputri</a>\n",
    "              <a href=\"\"><i class=\"bi-github\"></i> sisiliaputri</a>\n",
    "              <a href=\"\"><i class=\"bi-youtube\"></i> ciciliaputri</a>\n",
    "            </div>\n",
    "          </div>\n",
    "          <div class=\"col-6 align-self-end text-center\">\n",
    "            <img src=\"./images/farid_1_remove_bg.png\" width=\"300px\">\n",
    "          </div>\n",
    "        </div>\n",
    "      </div>   \n",
    "    </div>\n",
    "    <!--end header-->\n"
   ]
  }
 ],
 "metadata": {
  "kernelspec": {
   "display_name": "Python 3",
   "language": "python",
   "name": "python3"
  },
  "language_info": {
   "codemirror_mode": {
    "name": "ipython",
    "version": 3
   },
   "file_extension": ".py",
   "mimetype": "text/x-python",
   "name": "python",
   "nbconvert_exporter": "python",
   "pygments_lexer": "ipython3",
   "version": "3.8.3"
  }
 },
 "nbformat": 4,
 "nbformat_minor": 4
}
